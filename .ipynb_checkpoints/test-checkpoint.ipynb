{
 "cells": [
  {
   "cell_type": "code",
   "execution_count": 1,
   "metadata": {},
   "outputs": [],
   "source": [
    "import torch"
   ]
  },
  {
   "cell_type": "code",
   "execution_count": 2,
   "metadata": {},
   "outputs": [],
   "source": [
    "x = torch.tensor([torch.pi/6, torch.pi/3])"
   ]
  },
  {
   "cell_type": "code",
   "execution_count": 3,
   "metadata": {},
   "outputs": [
    {
     "data": {
      "text/plain": [
       "tensor([0.5236, 1.0472])"
      ]
     },
     "execution_count": 3,
     "metadata": {},
     "output_type": "execute_result"
    }
   ],
   "source": [
    "x"
   ]
  },
  {
   "cell_type": "code",
   "execution_count": 8,
   "metadata": {},
   "outputs": [
    {
     "data": {
      "text/plain": [
       "tensor([0.5000, 0.8660])"
      ]
     },
     "execution_count": 8,
     "metadata": {},
     "output_type": "execute_result"
    }
   ],
   "source": [
    "sin = torch.sin(x)\n",
    "sin"
   ]
  },
  {
   "cell_type": "code",
   "execution_count": 10,
   "metadata": {},
   "outputs": [
    {
     "data": {
      "text/plain": [
       "tensor([0.8660, 0.5000])"
      ]
     },
     "execution_count": 10,
     "metadata": {},
     "output_type": "execute_result"
    }
   ],
   "source": [
    "cos = torch.cos(x)\n",
    "cos"
   ]
  },
  {
   "cell_type": "code",
   "execution_count": 13,
   "metadata": {},
   "outputs": [],
   "source": [
    "d = torch.rand([5,4,2])"
   ]
  },
  {
   "cell_type": "code",
   "execution_count": 14,
   "metadata": {},
   "outputs": [
    {
     "data": {
      "text/plain": [
       "tensor([[[0.4216, 0.9300],\n",
       "         [0.1865, 0.0635],\n",
       "         [0.3928, 0.7269],\n",
       "         [0.9672, 0.6235]],\n",
       "\n",
       "        [[0.6323, 0.3885],\n",
       "         [0.2638, 0.9766],\n",
       "         [0.0420, 0.4727],\n",
       "         [0.5702, 0.3793]],\n",
       "\n",
       "        [[0.1292, 0.1960],\n",
       "         [0.2041, 0.0779],\n",
       "         [0.7800, 0.4607],\n",
       "         [0.1195, 0.0819]],\n",
       "\n",
       "        [[0.0108, 0.0475],\n",
       "         [0.1584, 0.5064],\n",
       "         [0.7425, 0.5155],\n",
       "         [0.2307, 0.8597]],\n",
       "\n",
       "        [[0.1284, 0.1632],\n",
       "         [0.0643, 0.6025],\n",
       "         [0.4103, 0.9825],\n",
       "         [0.9147, 0.6985]]])"
      ]
     },
     "execution_count": 14,
     "metadata": {},
     "output_type": "execute_result"
    }
   ],
   "source": [
    "d"
   ]
  },
  {
   "cell_type": "code",
   "execution_count": 20,
   "metadata": {},
   "outputs": [
    {
     "data": {
      "text/plain": [
       "torch.Size([5, 2])"
      ]
     },
     "execution_count": 20,
     "metadata": {},
     "output_type": "execute_result"
    }
   ],
   "source": [
    "d[:,0,:].shape"
   ]
  },
  {
   "cell_type": "code",
   "execution_count": 21,
   "metadata": {},
   "outputs": [
    {
     "data": {
      "text/plain": [
       "torch.Size([5, 2])"
      ]
     },
     "execution_count": 21,
     "metadata": {},
     "output_type": "execute_result"
    }
   ],
   "source": [
    "d[:,0].shape"
   ]
  },
  {
   "cell_type": "code",
   "execution_count": 23,
   "metadata": {},
   "outputs": [
    {
     "data": {
      "text/plain": [
       "tensor([[0.4216, 0.1865, 0.3928, 0.9672],\n",
       "        [0.6323, 0.2638, 0.0420, 0.5702],\n",
       "        [0.1292, 0.2041, 0.7800, 0.1195],\n",
       "        [0.0108, 0.1584, 0.7425, 0.2307],\n",
       "        [0.1284, 0.0643, 0.4103, 0.9147]])"
      ]
     },
     "execution_count": 23,
     "metadata": {},
     "output_type": "execute_result"
    }
   ],
   "source": [
    "d[:,:,0]"
   ]
  },
  {
   "cell_type": "code",
   "execution_count": 24,
   "metadata": {},
   "outputs": [],
   "source": [
    "import torch\n",
    "import torch.nn.functional as F\n",
    "\n",
    "def pitchyaw_to_vector(a):\n",
    "    # 检查输入数据的最后一个维度是否为2，这意味着每个元素是(pitch, yaw)\n",
    "    if a.shape[-1] == 2:\n",
    "        sin = torch.sin(a)\n",
    "        cos = torch.cos(a)\n",
    "        # 计算xyz坐标，注意这里使用了广播机制来处理batch和序列维度\n",
    "        x = cos[..., 0] * sin[..., 1]\n",
    "        y = sin[..., 0]\n",
    "        z = cos[..., 0] * cos[..., 1]\n",
    "        return torch.stack([x, y, z], dim=-1)\n",
    "    elif a.shape[-1] == 3:\n",
    "        # 如果输入已经是三维向量，直接归一化\n",
    "        return F.normalize(a, dim=-1)\n",
    "    else:\n",
    "        raise ValueError('Do not know how to convert tensor of size %s', a.shape)"
   ]
  },
  {
   "cell_type": "code",
   "execution_count": 25,
   "metadata": {},
   "outputs": [],
   "source": [
    "example_input = torch.rand([16,30,2])"
   ]
  },
  {
   "cell_type": "code",
   "execution_count": 27,
   "metadata": {},
   "outputs": [
    {
     "data": {
      "text/plain": [
       "torch.Size([16, 30, 2])"
      ]
     },
     "execution_count": 27,
     "metadata": {},
     "output_type": "execute_result"
    }
   ],
   "source": [
    "example_input.shape"
   ]
  },
  {
   "cell_type": "code",
   "execution_count": 28,
   "metadata": {},
   "outputs": [
    {
     "data": {
      "text/plain": [
       "torch.Size([16, 30, 3])"
      ]
     },
     "execution_count": 28,
     "metadata": {},
     "output_type": "execute_result"
    }
   ],
   "source": [
    "out = pitchyaw_to_vector(example_input)\n",
    "out.shape"
   ]
  },
  {
   "cell_type": "code",
   "execution_count": 29,
   "metadata": {},
   "outputs": [],
   "source": [
    "import torch\n",
    "import torch.nn.functional as F"
   ]
  },
  {
   "cell_type": "code",
   "execution_count": 35,
   "metadata": {},
   "outputs": [
    {
     "data": {
      "text/plain": [
       "torch.Size([16, 30, 3, 1])"
      ]
     },
     "execution_count": 35,
     "metadata": {},
     "output_type": "execute_result"
    }
   ],
   "source": [
    "vec = torch.rand([16,30,3,1])\n",
    "vec.shape"
   ]
  },
  {
   "cell_type": "code",
   "execution_count": 36,
   "metadata": {},
   "outputs": [],
   "source": [
    "\n",
    "\n",
    "h_vec = F.pad(vec, pad=(0, 0, 0, 1), value=1.0)"
   ]
  },
  {
   "cell_type": "code",
   "execution_count": 39,
   "metadata": {},
   "outputs": [
    {
     "data": {
      "text/plain": [
       "torch.Size([16, 30, 4, 1])"
      ]
     },
     "execution_count": 39,
     "metadata": {},
     "output_type": "execute_result"
    }
   ],
   "source": [
    "h_vec.shape"
   ]
  },
  {
   "cell_type": "code",
   "execution_count": 44,
   "metadata": {},
   "outputs": [
    {
     "data": {
      "text/plain": [
       "torch.Size([16, 30, 3])"
      ]
     },
     "execution_count": 44,
     "metadata": {},
     "output_type": "execute_result"
    }
   ],
   "source": [
    "T = torch.rand([16,30,4,4])\n",
    "h_vec = torch.rand([16,30,4,1])\n",
    "result = torch.matmul(T, h_vec)\n",
    "result[:,:, :3, 0].shape"
   ]
  },
  {
   "cell_type": "code",
   "execution_count": 52,
   "metadata": {},
   "outputs": [],
   "source": [
    "nn_plane_normal = torch.tensor([1, 0, 0], dtype=torch.float32).view(1, 1, 3, 1)"
   ]
  },
  {
   "cell_type": "code",
   "execution_count": 53,
   "metadata": {},
   "outputs": [
    {
     "data": {
      "text/plain": [
       "torch.Size([1, 1, 3, 1])"
      ]
     },
     "execution_count": 53,
     "metadata": {},
     "output_type": "execute_result"
    }
   ],
   "source": [
    "nn_plane_normal.shape"
   ]
  },
  {
   "cell_type": "code",
   "execution_count": 54,
   "metadata": {},
   "outputs": [
    {
     "data": {
      "text/plain": [
       "tensor([[[[1.],\n",
       "          [0.],\n",
       "          [0.]]]])"
      ]
     },
     "execution_count": 54,
     "metadata": {},
     "output_type": "execute_result"
    }
   ],
   "source": [
    "nn_plane_normal"
   ]
  },
  {
   "cell_type": "code",
   "execution_count": 49,
   "metadata": {},
   "outputs": [
    {
     "data": {
      "text/plain": [
       "tensor([[[0.9570, 0.1840, 0.5587],\n",
       "         [0.0038, 0.6099, 0.6060],\n",
       "         [0.0877, 0.4408, 0.0686],\n",
       "         ...,\n",
       "         [0.2799, 0.4307, 0.9706],\n",
       "         [0.4483, 0.2570, 0.8375],\n",
       "         [0.9167, 0.1663, 0.9902]],\n",
       "\n",
       "        [[0.2603, 0.2120, 0.7345],\n",
       "         [0.6460, 0.4615, 0.5293],\n",
       "         [0.8098, 0.4909, 0.8801],\n",
       "         ...,\n",
       "         [0.3760, 0.5285, 0.7112],\n",
       "         [0.0563, 0.5147, 0.4617],\n",
       "         [0.5940, 0.5528, 0.9496]],\n",
       "\n",
       "        [[0.0264, 0.9353, 0.7196],\n",
       "         [0.6996, 0.1094, 0.8044],\n",
       "         [0.2643, 0.5025, 0.8245],\n",
       "         ...,\n",
       "         [0.3749, 0.6582, 0.4630],\n",
       "         [0.6104, 0.0962, 0.0833],\n",
       "         [0.6570, 0.0213, 0.8367]],\n",
       "\n",
       "        ...,\n",
       "\n",
       "        [[0.3659, 0.7004, 0.3016],\n",
       "         [0.6041, 0.3204, 0.7441],\n",
       "         [0.0286, 0.5699, 0.0924],\n",
       "         ...,\n",
       "         [0.1608, 0.6671, 0.2086],\n",
       "         [0.6046, 0.7429, 0.6993],\n",
       "         [0.7916, 0.1279, 0.9147]],\n",
       "\n",
       "        [[0.4576, 0.5447, 0.1849],\n",
       "         [0.8120, 0.7266, 0.4491],\n",
       "         [0.1500, 0.7581, 0.2480],\n",
       "         ...,\n",
       "         [0.3327, 0.3634, 0.3281],\n",
       "         [0.9860, 0.5033, 0.3534],\n",
       "         [0.2908, 0.3398, 0.9811]],\n",
       "\n",
       "        [[0.1309, 0.3128, 0.6729],\n",
       "         [0.4375, 0.8923, 0.9999],\n",
       "         [0.1798, 0.2833, 0.7427],\n",
       "         ...,\n",
       "         [0.0380, 0.5977, 0.0335],\n",
       "         [0.1364, 0.2221, 0.6937],\n",
       "         [0.7603, 0.7471, 0.8204]]])"
      ]
     },
     "execution_count": 49,
     "metadata": {},
     "output_type": "execute_result"
    }
   ],
   "source": [
    "g = torch.rand([16,30,3])\n",
    "g"
   ]
  },
  {
   "cell_type": "code",
   "execution_count": 51,
   "metadata": {},
   "outputs": [
    {
     "data": {
      "text/plain": [
       "torch.Size([16, 30, 3, 1])"
      ]
     },
     "execution_count": 51,
     "metadata": {},
     "output_type": "execute_result"
    }
   ],
   "source": [
    "g.unsqueeze(-1).shape"
   ]
  },
  {
   "cell_type": "code",
   "execution_count": 4,
   "metadata": {},
   "outputs": [],
   "source": [
    "x = torch.ones([16,1])\n",
    "y = torch.zeros([16,1])\n",
    "z = torch.stack([\n",
    "        x,\n",
    "        y\n",
    "    ], dim=-1)"
   ]
  },
  {
   "cell_type": "code",
   "execution_count": 5,
   "metadata": {},
   "outputs": [
    {
     "data": {
      "text/plain": [
       "torch.Size([16, 1, 2])"
      ]
     },
     "execution_count": 5,
     "metadata": {},
     "output_type": "execute_result"
    }
   ],
   "source": [
    "z.shape"
   ]
  },
  {
   "cell_type": "code",
   "execution_count": 6,
   "metadata": {},
   "outputs": [
    {
     "data": {
      "text/plain": [
       "tensor([[[1., 0.]],\n",
       "\n",
       "        [[1., 0.]],\n",
       "\n",
       "        [[1., 0.]],\n",
       "\n",
       "        [[1., 0.]],\n",
       "\n",
       "        [[1., 0.]],\n",
       "\n",
       "        [[1., 0.]],\n",
       "\n",
       "        [[1., 0.]],\n",
       "\n",
       "        [[1., 0.]],\n",
       "\n",
       "        [[1., 0.]],\n",
       "\n",
       "        [[1., 0.]],\n",
       "\n",
       "        [[1., 0.]],\n",
       "\n",
       "        [[1., 0.]],\n",
       "\n",
       "        [[1., 0.]],\n",
       "\n",
       "        [[1., 0.]],\n",
       "\n",
       "        [[1., 0.]],\n",
       "\n",
       "        [[1., 0.]]])"
      ]
     },
     "execution_count": 6,
     "metadata": {},
     "output_type": "execute_result"
    }
   ],
   "source": [
    "z"
   ]
  },
  {
   "cell_type": "code",
   "execution_count": null,
   "metadata": {},
   "outputs": [],
   "source": [
    "import torch\n",
    "from torch import nn\n",
    "import torch.nn.functional as F\n",
    "from torchvision.models.resnet import BasicBlock, ResNet\n",
    "import logging\n",
    "import numpy as np\n",
    "from collections import OrderedDict\n",
    "import functools\n",
    "import wandb\n",
    "import random\n",
    "import os\n",
    "import matplotlib.pyplot as plt\n",
    "\n",
    "from torch.utils.data import DataLoader, Subset\n",
    "from datasources import EVESequences_train, EVESequences_test, EVESequences_val\n",
    "from core import DefaultConfig\n",
    "from torch.optim.lr_scheduler import ExponentialLR\n",
    "\n",
    "from torch.utils.tensorboard import SummaryWriter\n",
    "import time\n",
    "from datetime import datetime, timezone\n",
    "from model.eyenet import EyeNet\n",
    "from model.eyenet_frame import EyeNetFrame\n",
    "from utils.util_functions import pitchyaw_to_vector, subset_test\n",
    "from utils.loss import BaseLossWithValidity, L1Loss, AngularLoss\n",
    "from core.training import init_datasets\n",
    "from utils.wandb_setup import init_wandb\n",
    "from eval import do_final_test\n",
    "\n",
    "logger = logging.getLogger(__name__)\n",
    "config = DefaultConfig()\n",
    "\n",
    "hp = {\n",
    "    'eye_net_rnn_num_features': 128,\n",
    "    'eye_net_rnn_num_cells': 1,\n",
    "    'batch_size': config.batch_size,\n",
    "    'epoch_num': 10,\n",
    "    'sequence_length': 30,\n",
    "    'saving_dir': './saving',\n",
    "}\n",
    "\n",
    "if __name__ == '__main__':\n",
    "    train_dataset_paths = [\n",
    "        ('eve_train',\n",
    "         EVESequences_train,\n",
    "         '/root/autodl-tmp/eve_dataset/eve_dataset',\n",
    "         #  '/media/linlishi/Extend/EVE/eve_dataset',\n",
    "        #  '/media/linlishi/Extend/EVE/eve_dataset',\n",
    "         # '/home/luanfuzi/dataset/eve_dataset',\n",
    "        #  '/run/media/linlishi/Extend/EVE/eve_dataset',\n",
    "        # '/Volumes/Extend/EVE/eve_dataset',\n",
    "         ['image', 'video', 'wikipedia'],\n",
    "         ['basler', 'webcam_l', 'webcam_c', 'webcam_r']),  # noqa\n",
    "    ]\n",
    "\n",
    "    val_dataset_paths = [\n",
    "        ('eve_val', EVESequences_val,\n",
    "        '/root/autodl-tmp/eve_dataset/eve_dataset',\n",
    "         #  '/media/linlishi/Extend/EVE/eve_dataset',\n",
    "        #  '/media/linlishi/Extend/EVE/eve_dataset',\n",
    "         # '/home/luanfuzi/dataset/eve_dataset',\n",
    "        #  '/run/media/linlishi/Extend/EVE/eve_dataset',\n",
    "        # '/Volumes/Extend/EVE/eve_dataset',\n",
    "        \n",
    "         ['image', 'video', 'wikipedia'],\n",
    "         ['basler', 'webcam_l', 'webcam_c', 'webcam_r']),\n",
    "    ]\n",
    "\n",
    "    train_data, test_data = init_datasets(train_dataset_paths, val_dataset_paths)\n",
    "    dataloader = train_data['eve_train']['dataloader']\n",
    "    mydata = None\n",
    "    for data in dataloader:\n",
    "        mydata = data\n",
    "        break"
   ]
  },
  {
   "cell_type": "code",
   "execution_count": null,
   "metadata": {},
   "outputs": [],
   "source": [
    "data"
   ]
  },
  {
   "cell_type": "code",
   "execution_count": null,
   "metadata": {},
   "outputs": [],
   "source": []
  }
 ],
 "metadata": {
  "kernelspec": {
   "display_name": "Python 3 (ipykernel)",
   "language": "python",
   "name": "python3"
  },
  "language_info": {
   "codemirror_mode": {
    "name": "ipython",
    "version": 3
   },
   "file_extension": ".py",
   "mimetype": "text/x-python",
   "name": "python",
   "nbconvert_exporter": "python",
   "pygments_lexer": "ipython3",
   "version": "3.12.3"
  }
 },
 "nbformat": 4,
 "nbformat_minor": 4
}
